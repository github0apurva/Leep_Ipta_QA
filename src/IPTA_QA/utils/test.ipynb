{
 "cells": [
  {
   "cell_type": "code",
   "execution_count": 9,
   "metadata": {},
   "outputs": [
    {
     "data": {
      "text/plain": [
       "'wikipedia'"
      ]
     },
     "execution_count": 9,
     "metadata": {},
     "output_type": "execute_result"
    }
   ],
   "source": [
    "# built in tools - Wiki\n",
    "from langchain_community.utilities import WikipediaAPIWrapper\n",
    "from langchain_community.tools import WikipediaQueryRun\n",
    "\n",
    "api_wrapper = WikipediaAPIWrapper(top_k_results=1, doc_content_chars_max=200)\n",
    "wiki_tool = WikipediaQueryRun (api_wrapper=api_wrapper)\n",
    "tools = [wiki_tool]\n",
    "wiki_tool.name"
   ]
  },
  {
   "cell_type": "code",
   "execution_count": 18,
   "metadata": {},
   "outputs": [],
   "source": [
    "import os\n",
    "from dotenv import load_dotenv\n",
    "#set the env values just outside of virtual environment\n",
    "custom_env_path = lambda a : '/'.join(os.get_exec_path()[0].split('\\\\')[:-2])+'/'+a\n",
    "load_dotenv(custom_env_path('chatter.env'))\n",
    "\n",
    "os.environ[\"OPENAI_API_KEY\"] = os.getenv(\"OPENAI_API_KEY\")\n",
    "## LangSmith tracking\n",
    "os.environ[\"LANGCHAIN_TRACING_V2\"] = \"true\"\n",
    "os.environ[\"LANGCHAIN_API_KEY\"] = os.getenv(\"LANGCHAIN_API_KEY\")\n",
    "os.environ[\"GOOGLE_API_KEY\"] = os.getenv(\"GOOGLE_API_KEY\")\n",
    "os.environ[\"GOOGLE_CSE_ID\"] = os.getenv(\"GOOGLE_CSE_ID\")"
   ]
  },
  {
   "cell_type": "code",
   "execution_count": 66,
   "metadata": {},
   "outputs": [
    {
     "data": {
      "text/plain": [
       "[{'title': 'Novartis investigational iptacopan Phase III study demonstrates ...',\n",
       "  'link': 'https://www.novartis.com/news/media-releases/novartis-investigational-iptacopan-phase-iii-study-demonstrates-clinically-meaningful-and-highly-statistically-significant-proteinuria-reduction-patients-iga-nephropathy-igan',\n",
       "  'snippet': 'Oct 2, 2023 ... Targeting the Alternative Complement Pathway With Iptacopan to Treat IgA Nephropathy: Design and Rationale of the APPLAUSE-IgAN Study\\xa0...'},\n",
       " {'title': \"Novartis' PNH Treatment Bests AstraZeneca's in Phase III Trial ...\",\n",
       "  'link': 'https://www.biospace.com/article/novartis-pnh-trial-results-put-pressure-on-astrazeneca-s-ultomiris-and-soliris/',\n",
       "  'snippet': 'Oct 24, 2022 ... Iptacopan is an investigational, first-in-class, oral targeted factor B inhibitor of the alternative complement pathway. The data adds\\xa0...'},\n",
       " {'title': 'Novartis Pipeline | Novartis',\n",
       "  'link': 'https://www.novartis.com/research-development/novartis-pipeline',\n",
       "  'snippet': \"Benefiting from our continued focus on innovation, Novartis has one of the industry's most competitive pipelines. Many of these projects, which\\xa0...\"},\n",
       " {'title': 'Novartis rival to AstraZeneca rare disease drugs succeeds in study ...',\n",
       "  'link': 'https://www.biopharmadive.com/news/novartis-iptacopan-pnh-alexion-complement/634793/',\n",
       "  'snippet': 'Oct 24, 2022 ... If approved in paroxysmal nocturnal hemoglobinuria, or PNH, it would offer an oral alternative ... Novartis has forecast sales of iptacopan\\xa0...'},\n",
       " {'title': \"Novartis' oral drug iptacopan tops injectables in head-to-head PNH ...\",\n",
       "  'link': 'https://pharmaphorum.com/news/novartis-oral-drug-iptacopan-tops-injectables-in-head-to-head-pnh-trial',\n",
       "  'snippet': 'Oct 24, 2022 ... \"We look forward to discussing the data with regulators so we can bring this first-in-class alternative complement pathway inhibitor as the\\xa0...'},\n",
       " {'title': 'Novartis: Competitors Take Note, Iptacopan Is Coming (NVS ...',\n",
       "  'link': 'https://seekingalpha.com/article/4566810-novartis-competitors-take-note-iptacopan-is-coming',\n",
       "  'snippet': 'Dec 29, 2022 ... And to date, iptacopan was generally safe and well-tolerated across these trials. Overall, I see iptacopan as a $4 billion+ product at peak for\\xa0...'},\n",
       " {'title': 'Targeting the Alternative Complement Pathway With Iptacopan to ...',\n",
       "  'link': 'https://www.ncbi.nlm.nih.gov/pmc/articles/PMC10166738/',\n",
       "  'snippet': 'In the recent Phase 2 study of iptacopan in patients with IgAN, iptacopan ... Novartis, George Clinical, Otsuka Pharmaceuticals (Visterra), Calliditas\\xa0...'},\n",
       " {'title': \"Novartis' $3B prospect beats AstraZeneca blockbuster in phase 3\",\n",
       "  'link': 'https://www.fiercebiotech.com/biotech/novartis-eyeing-3b-market-beats-astrazeneca-blockbuster-phase-3-trigger-race-regulators',\n",
       "  'snippet': \"Oct 24, 2022 ... Novartis is coming for the jewels of AstraZeneca's $39 billion takeover of Alexion. In a phase 3 trial, the Swiss drugmaker's iptacopan beat\\xa0...\"},\n",
       " {'title': 'Low‐molecular weight inhibitors of the alternative complement ...',\n",
       "  'link': 'https://www.ncbi.nlm.nih.gov/pmc/articles/PMC10092480/',\n",
       "  'snippet': 'Oct 11, 2022 ... ... alternative pathway through competition with ... Novartis advanced iptacopan into clinical development (Table 2) for the following reasons.'},\n",
       " {'title': \"Novartis's iptacopan meets primary endpoint in Phase III PNH trial\",\n",
       "  'link': 'https://www.clinicaltrialsarena.com/news/novartis-iptacopan-pnh/',\n",
       "  'snippet': \"Apr 27, 2023 ... Novartis's iptacopan meets primary endpoint in Phase III PNH trial. The rare ... How well do you really know your competitors? Access the most\\xa0...\"}]"
      ]
     },
     "execution_count": 66,
     "metadata": {},
     "output_type": "execute_result"
    }
   ],
   "source": [
    "from langchain_community.utilities import GoogleSearchAPIWrapper\n",
    "#from langchain_community.tools import GoogleSearchRun  # LangChainDeprecationWarning\n",
    "#from langchain_google_community  import GoogleSearchRun\n",
    "api_wrapper = GoogleSearchAPIWrapper(k  = 20, siterestrict = False )\n",
    "api_wrapper.results (\"novartis Iptacopan competitors\" , 10 )\n",
    "\n"
   ]
  },
  {
   "cell_type": "code",
   "execution_count": 10,
   "metadata": {},
   "outputs": [],
   "source": [
    "#from langchain_community.llms import Ollama\n",
    "from langchain_community.chat_models import ChatOllama\n",
    "from langchain_core.prompts import ChatPromptTemplate\n",
    "from langchain import hub\n",
    "\n",
    "prompt = hub.pull(\"hwchase17/openai-functions-agent\")\n",
    "prompt.messages\n",
    "\n",
    "#llm = Ollama(model = \"llama2\")\n",
    "llm= ChatOllama(model=\"llama2\")"
   ]
  },
  {
   "cell_type": "code",
   "execution_count": 12,
   "metadata": {},
   "outputs": [
    {
     "name": "stdout",
     "output_type": "stream",
     "text": [
      "\n",
      "\n",
      "\u001b[1m> Entering new AgentExecutor chain...\u001b[0m\n",
      "\u001b[32;1m\u001b[1;3mCertainly, I'd be happy to help! Novartis is a multinational pharmaceutical company that was founded in 1996 through the merger of Ciba-Geigy and Sandoz. The company is headquartered in Basel, Switzerland and has operations in more than 100 countries around the world.\n",
      "\n",
      "Novartis is one of the largest pharmaceutical companies in the world and specializes in developing and manufacturing innovative medicines for a range of diseases and conditions, including cancer, cardiovascular disease, metabolic disorders, and infectious diseases. The company's product portfolio includes a number of well-known brands, such as Novartis, Exjade, and Gleevec.\n",
      "\n",
      "Novartis has a strong commitment to research and development, investing over 10% of its revenue in R&D each year. The company has a diverse pipeline of new medicines and therapies in various stages of development, including gene therapies, biosimilars, and small molecule treatments for a range of diseases.\n",
      "\n",
      "In addition to its pharmaceutical business, Novartis also provides diagnostic tools and services through its Siemens Healthineers joint venture. The company has a long history of innovation and has been granted numerous patents and awards for its contributions to the field of medicine.\n",
      "\n",
      "Novartis is also committed to ethical business practices and corporate social responsibility, with a focus on sustainability, diversity and inclusion, and community engagement. The company has been recognized for its efforts in these areas through various awards and recognition programs.\n",
      "\n",
      "Overall, Novartis is a leading global pharmaceutical company that is dedicated to improving the lives of patients around the world through innovative medicines and therapies, as well as ethical business practices and corporate social responsibility.\u001b[0m\n",
      "\n",
      "\u001b[1m> Finished chain.\u001b[0m\n"
     ]
    },
    {
     "data": {
      "text/plain": [
       "{'input': 'Tell me about Novartis',\n",
       " 'output': \"Certainly, I'd be happy to help! Novartis is a multinational pharmaceutical company that was founded in 1996 through the merger of Ciba-Geigy and Sandoz. The company is headquartered in Basel, Switzerland and has operations in more than 100 countries around the world.\\n\\nNovartis is one of the largest pharmaceutical companies in the world and specializes in developing and manufacturing innovative medicines for a range of diseases and conditions, including cancer, cardiovascular disease, metabolic disorders, and infectious diseases. The company's product portfolio includes a number of well-known brands, such as Novartis, Exjade, and Gleevec.\\n\\nNovartis has a strong commitment to research and development, investing over 10% of its revenue in R&D each year. The company has a diverse pipeline of new medicines and therapies in various stages of development, including gene therapies, biosimilars, and small molecule treatments for a range of diseases.\\n\\nIn addition to its pharmaceutical business, Novartis also provides diagnostic tools and services through its Siemens Healthineers joint venture. The company has a long history of innovation and has been granted numerous patents and awards for its contributions to the field of medicine.\\n\\nNovartis is also committed to ethical business practices and corporate social responsibility, with a focus on sustainability, diversity and inclusion, and community engagement. The company has been recognized for its efforts in these areas through various awards and recognition programs.\\n\\nOverall, Novartis is a leading global pharmaceutical company that is dedicated to improving the lives of patients around the world through innovative medicines and therapies, as well as ethical business practices and corporate social responsibility.\"}"
      ]
     },
     "execution_count": 12,
     "metadata": {},
     "output_type": "execute_result"
    }
   ],
   "source": [
    "from langchain.agents import create_openai_tools_agent\n",
    "agent = create_openai_tools_agent(llm, tools, prompt)\n",
    "\n",
    "\n",
    "# agent executor\n",
    "from langchain.agents import AgentExecutor\n",
    "agent_exe = AgentExecutor(agent = agent, tools = tools, verbose=True)\n",
    "agent_exe.invoke({\"input\":\"Tell me about Novartis\"})"
   ]
  }
 ],
 "metadata": {
  "kernelspec": {
   "display_name": ".venv",
   "language": "python",
   "name": "python3"
  },
  "language_info": {
   "codemirror_mode": {
    "name": "ipython",
    "version": 3
   },
   "file_extension": ".py",
   "mimetype": "text/x-python",
   "name": "python",
   "nbconvert_exporter": "python",
   "pygments_lexer": "ipython3",
   "version": "3.11.9"
  }
 },
 "nbformat": 4,
 "nbformat_minor": 2
}
